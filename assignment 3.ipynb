{
 "cells": [
  {
   "cell_type": "code",
   "execution_count": 7,
   "id": "fa8fd4e9-6fb9-497a-ad7b-da0858a02416",
   "metadata": {},
   "outputs": [],
   "source": [
    "## question no.1 Answer"
   ]
  },
  {
   "cell_type": "code",
   "execution_count": 8,
   "id": "5261f197-6579-4849-8215-6a3a9f3ab013",
   "metadata": {},
   "outputs": [],
   "source": [
    " list =[('Sachin Tendulkar', 34357), ('Ricky Ponting', 27483), ('Jack Kallis', 25534), ('Virat Kohli', 24936)]"
   ]
  },
  {
   "cell_type": "code",
   "execution_count": 9,
   "id": "159a458a-c096-4146-b051-2e7aa4bfb846",
   "metadata": {},
   "outputs": [
    {
     "name": "stdout",
     "output_type": "stream",
     "text": [
      "Original list of tuples:\n",
      "[('Sachin Tendulkar', 34357), ('Ricky Ponting', 27483), ('Jack Kallis', 25534), ('Virat Kohli', 24936)]\n",
      "\n",
      "Sorting the List of Tuples:\n",
      "[('Virat Kohli', 24936), ('Jack Kallis', 25534), ('Ricky Ponting', 27483), ('Sachin Tendulkar', 34357)]\n"
     ]
    }
   ],
   "source": [
    "print(\"Original list of tuples:\")\n",
    "print (list)\n",
    "list.sort(key = lambda x: x[1])\n",
    "print(\"\\nSorting the List of Tuples:\")\n",
    "print(list)\n"
   ]
  },
  {
   "cell_type": "code",
   "execution_count": 11,
   "id": "0523c355-17a3-4223-90a0-4a65811dd1b4",
   "metadata": {},
   "outputs": [],
   "source": [
    "## Question no.2 Answer"
   ]
  },
  {
   "cell_type": "code",
   "execution_count": 8,
   "id": "91291214-a1a5-4fb7-8559-e8a80a8bfabe",
   "metadata": {},
   "outputs": [],
   "source": [
    "l = [1, 2, 3, 4, 5, 6, 7, 8, 9, 10]"
   ]
  },
  {
   "cell_type": "code",
   "execution_count": 11,
   "id": "cbee8d44-c59a-4828-8a3c-2b57f0b67a0e",
   "metadata": {},
   "outputs": [
    {
     "data": {
      "text/plain": [
       "[1, 4, 9, 16, 25, 36, 49, 64, 81, 100]"
      ]
     },
     "execution_count": 11,
     "metadata": {},
     "output_type": "execute_result"
    }
   ],
   "source": [
    "list(map(lambda x : x**2 ,l))"
   ]
  },
  {
   "cell_type": "code",
   "execution_count": 15,
   "id": "649d11be-c274-4434-bd88-3c0d036e666a",
   "metadata": {},
   "outputs": [],
   "source": [
    "# Question no.3 Answer"
   ]
  },
  {
   "cell_type": "code",
   "execution_count": 21,
   "id": "bde01925-1970-457b-ba72-503ee3ccd638",
   "metadata": {},
   "outputs": [
    {
     "name": "stdout",
     "output_type": "stream",
     "text": [
      "Original list and tuple:\n",
      "[1, 2, 3, 4, 5, 6, 7, 8, 9, 10]\n",
      "('1', '2', '3', '4', '5', '6', '7', '8', '9', '10')\n",
      "\n",
      "List of strings:\n",
      "['1', '2', '3', '4', '5', '6', '7', '8', '9', '10']\n",
      "\n",
      "Tuple of strings:\n",
      "('1', '2', '3', '4', '5', '6', '7', '8', '9', '10')\n"
     ]
    }
   ],
   "source": [
    "nums_list= [1, 2, 3, 4, 5, 6, 7, 8, 9, 10]\n",
    "nums_tuple = ('1', '2', '3', '4', '5', '6', '7', '8', '9', '10')\n",
    "print(\"Original list and tuple:\")\n",
    "print(nums_list)\n",
    "print(nums_tuple)\n",
    "result_list = list(map(str,nums_list))\n",
    "result_tuple = tuple(map(str,nums_tuple))\n",
    "print(\"\\nList of strings:\")\n",
    "print(result_list)\n",
    "print(\"\\nTuple of strings:\")\n",
    "print(result_tuple)"
   ]
  },
  {
   "cell_type": "code",
   "execution_count": 22,
   "id": "639876b9-717f-4470-826c-8ff4dcd7eb49",
   "metadata": {},
   "outputs": [],
   "source": [
    "# Question no.4 Answer"
   ]
  },
  {
   "cell_type": "code",
   "execution_count": 28,
   "id": "d87a96a2-0035-4de9-9256-cffb1b6631b8",
   "metadata": {},
   "outputs": [
    {
     "name": "stdout",
     "output_type": "stream",
     "text": [
      "[1, 2, 3, 4, 5, 6, 7, 8, 9, 10, 11, 12, 13, 14, 15, 16, 17, 18, 19, 20, 21, 22, 23, 24, 25]\n"
     ]
    }
   ],
   "source": [
    "n =  [m for m in range(1,26)]\n",
    "print(n)"
   ]
  },
  {
   "cell_type": "code",
   "execution_count": 29,
   "id": "06ef805d-5e89-4001-987a-3867b024a335",
   "metadata": {},
   "outputs": [
    {
     "data": {
      "text/plain": [
       "325"
      ]
     },
     "execution_count": 29,
     "metadata": {},
     "output_type": "execute_result"
    }
   ],
   "source": [
    "reduce(lambda x ,y : x+y,n)"
   ]
  },
  {
   "cell_type": "code",
   "execution_count": 30,
   "id": "af2a5409-4c06-4544-b1b0-b3a9da1ee4ae",
   "metadata": {},
   "outputs": [],
   "source": [
    "# Question no.5 Answer"
   ]
  },
  {
   "cell_type": "code",
   "execution_count": 31,
   "id": "3a37f317-56dc-405a-80a6-c2bcae40d3c1",
   "metadata": {},
   "outputs": [],
   "source": [
    "l = [2, 3, 6, 9, 27, 60, 90, 120, 55, 46]"
   ]
  },
  {
   "cell_type": "code",
   "execution_count": 32,
   "id": "387e0dc3-5001-4879-872c-c072bf94a36b",
   "metadata": {},
   "outputs": [
    {
     "data": {
      "text/plain": [
       "[2, 6, 60, 90, 120, 46]"
      ]
     },
     "execution_count": 32,
     "metadata": {},
     "output_type": "execute_result"
    }
   ],
   "source": [
    "list(filter(lambda x: x % 2 ==0 , l))"
   ]
  },
  {
   "cell_type": "code",
   "execution_count": 33,
   "id": "09958be7-a01a-4313-9144-31e878386db8",
   "metadata": {},
   "outputs": [
    {
     "data": {
      "text/plain": [
       "[3, 6, 9, 27, 60, 90, 120]"
      ]
     },
     "execution_count": 33,
     "metadata": {},
     "output_type": "execute_result"
    }
   ],
   "source": [
    "list(filter(lambda x: x % 3 ==0 , l))"
   ]
  },
  {
   "cell_type": "code",
   "execution_count": 34,
   "id": "68857945-8efd-4e75-a8d9-5da41fca0ff5",
   "metadata": {},
   "outputs": [],
   "source": [
    "# Question no.6 Answer"
   ]
  },
  {
   "cell_type": "code",
   "execution_count": 41,
   "id": "34365332-c23e-4bc1-be17-b3e8141ffc0b",
   "metadata": {},
   "outputs": [
    {
     "name": "stdout",
     "output_type": "stream",
     "text": [
      "Orginal list of strings:\n",
      "['python', 'php', 'aba', 'radar', 'level']\n",
      "\n",
      "List of palindromes:\n",
      "['php', 'aba', 'radar', 'level']\n"
     ]
    }
   ],
   "source": [
    "texts = ['python', 'php', 'aba', 'radar', 'level']\n",
    "print(\"Orginal list of strings:\")\n",
    "print(texts) \n",
    "result = list(filter(lambda x: (x == \"\".join(reversed(x))), texts)) \n",
    "print(\"\\nList of palindromes:\")\n",
    "print(result)"
   ]
  },
  {
   "cell_type": "code",
   "execution_count": null,
   "id": "665d9839-65b3-4470-bf55-2200a76311d1",
   "metadata": {},
   "outputs": [],
   "source": []
  }
 ],
 "metadata": {
  "kernelspec": {
   "display_name": "Python 3 (ipykernel)",
   "language": "python",
   "name": "python3"
  },
  "language_info": {
   "codemirror_mode": {
    "name": "ipython",
    "version": 3
   },
   "file_extension": ".py",
   "mimetype": "text/x-python",
   "name": "python",
   "nbconvert_exporter": "python",
   "pygments_lexer": "ipython3",
   "version": "3.10.8"
  }
 },
 "nbformat": 4,
 "nbformat_minor": 5
}
